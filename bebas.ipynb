{
 "cells": [
  {
   "cell_type": "code",
   "execution_count": 7,
   "metadata": {},
   "outputs": [
    {
     "name": "stdout",
     "output_type": "stream",
     "text": [
      "32.5 derajat celcius sama dengan 90.5 derajat Fahrenheit\n",
      "32.5 derajat celcius sama dengan 26.0 derajat Reamur\n",
      "32.5 derajat celcius sama dengan 305.5 derajat Kelvin\n"
     ]
    }
   ],
   "source": [
    "#PROGRAM KONVERSI SUHU\n",
    "\n",
    "CelciusDegree = float(input(\"Masukkan Derajat dalam Celcius =\\t\"))\n",
    "\n",
    "FahrenheitDegree = (CelciusDegree*9/5)+32\n",
    "ReamurDegree = (CelciusDegree*4/5)\n",
    "KelvinDegree = (CelciusDegree+273)\n",
    "\n",
    "print(f\"{CelciusDegree} derajat celcius sama dengan {FahrenheitDegree} derajat Fahrenheit\")\n",
    "print(f\"{CelciusDegree} derajat celcius sama dengan {ReamurDegree} derajat Reamur\")\n",
    "print(f\"{CelciusDegree} derajat celcius sama dengan {KelvinDegree} derajat Kelvin\")"
   ]
  },
  {
   "cell_type": "code",
   "execution_count": 9,
   "metadata": {},
   "outputs": [
    {
     "name": "stdout",
     "output_type": "stream",
     "text": [
      "Nilai Luas Segitiga adalah 2.0\n"
     ]
    }
   ],
   "source": [
    "TinggiSegitiga= float(input(\"Masukkan Tingi Segitiga=\\t \"))\n",
    "AlasSegitiga = float(input(\"Masukkan Alas Segitiga=\\t\"))\n",
    "LuasSegitiga= (AlasSegitiga*TinggiSegitiga/2)\n",
    "\n",
    "print(f\"Nilai Luas Segitiga adalah {LuasSegitiga}\")"
   ]
  },
  {
   "cell_type": "code",
   "execution_count": 18,
   "metadata": {},
   "outputs": [
    {
     "name": "stdout",
     "output_type": "stream",
     "text": [
      "[1, 4, 5, 6, 7, 8, 9]\n",
      "Nilai maksimum dalam list adalah 9\n",
      "Nilai minimum dalam list adalah 1\n"
     ]
    }
   ],
   "source": [
    "#Menemukan nilai maks dan min dalam list\n",
    "penampungan = []\n",
    "angka = (input(\"Masukkan angka yang mau ditampung:\\\\t\"))\n",
    "penampungan = angka.split(\",\")\n",
    "\n",
    "penampungan = [int(angka) for angka in penampungan]\n",
    "print(penampungan)\n",
    "\n",
    "#Mencari nilai maksimum dan minimum dalam list\n",
    "NilaiMaks = max(penampungan)\n",
    "NilaiMin = min(penampungan)\n",
    "\n",
    "print(f\"Nilai maksimum dalam list adalah {NilaiMaks}\")\n",
    "print(f\"Nilai minimum dalam list adalah {NilaiMin}\")"
   ]
  }
 ],
 "metadata": {
  "kernelspec": {
   "display_name": "Python 3",
   "language": "python",
   "name": "python3"
  },
  "language_info": {
   "codemirror_mode": {
    "name": "ipython",
    "version": 3
   },
   "file_extension": ".py",
   "mimetype": "text/x-python",
   "name": "python",
   "nbconvert_exporter": "python",
   "pygments_lexer": "ipython3",
   "version": "3.10.7"
  },
  "orig_nbformat": 4
 },
 "nbformat": 4,
 "nbformat_minor": 2
}
